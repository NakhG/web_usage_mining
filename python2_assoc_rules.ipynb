{
 "cells": [
  {
   "cell_type": "code",
   "execution_count": 1,
   "metadata": {
    "collapsed": false
   },
   "outputs": [
    {
     "data": {
      "text/plain": [
       "u'C:\\\\Users\\\\gnakhleh\\\\Documents\\\\ECT584'"
      ]
     },
     "execution_count": 1,
     "metadata": {},
     "output_type": "execute_result"
    }
   ],
   "source": [
    "pwd"
   ]
  },
  {
   "cell_type": "code",
   "execution_count": 2,
   "metadata": {
    "collapsed": true
   },
   "outputs": [],
   "source": [
    "import numpy as np\n",
    "import pandas as pd\n",
    "\n",
    "clickstream = pd.read_csv(\"data.csv\", dtype={'session_path_full':list})"
   ]
  },
  {
   "cell_type": "code",
   "execution_count": 3,
   "metadata": {
    "collapsed": false
   },
   "outputs": [
    {
     "data": {
      "text/html": [
       "<div>\n",
       "<table border=\"1\" class=\"dataframe\">\n",
       "  <thead>\n",
       "    <tr style=\"text-align: right;\">\n",
       "      <th></th>\n",
       "      <th>Unnamed: 0</th>\n",
       "      <th>session_id</th>\n",
       "      <th>server_date</th>\n",
       "      <th>country</th>\n",
       "      <th>browser</th>\n",
       "      <th>os</th>\n",
       "      <th>referer</th>\n",
       "      <th>session_path_full</th>\n",
       "      <th>session_categories</th>\n",
       "      <th>session_times_spent</th>\n",
       "      <th>session_total_time</th>\n",
       "      <th>session_total_pages</th>\n",
       "      <th>referer_clean</th>\n",
       "    </tr>\n",
       "  </thead>\n",
       "  <tbody>\n",
       "    <tr>\n",
       "      <th>0</th>\n",
       "      <td>0</td>\n",
       "      <td>0032636170691fd</td>\n",
       "      <td>3/24/2014</td>\n",
       "      <td>United States</td>\n",
       "      <td>Windows 7</td>\n",
       "      <td>Chrome</td>\n",
       "      <td>NaN</td>\n",
       "      <td>['dataiku.com/blog/2012/12/07/visualizing-your...</td>\n",
       "      <td>['blog']</td>\n",
       "      <td>[10.0]</td>\n",
       "      <td>10.0</td>\n",
       "      <td>1</td>\n",
       "      <td>NaN</td>\n",
       "    </tr>\n",
       "    <tr>\n",
       "      <th>1</th>\n",
       "      <td>1</td>\n",
       "      <td>0039e021117bf7e</td>\n",
       "      <td>3/28/2014</td>\n",
       "      <td>United States</td>\n",
       "      <td>Mac OS X</td>\n",
       "      <td>Chrome</td>\n",
       "      <td>NaN</td>\n",
       "      <td>['dataiku.com/products/mining/', 'dataiku.com/...</td>\n",
       "      <td>['products', 'products', 'applications', 'comp...</td>\n",
       "      <td>[96.0, 22.0, 22.0, 34.0, 10.0]</td>\n",
       "      <td>184.0</td>\n",
       "      <td>5</td>\n",
       "      <td>NaN</td>\n",
       "    </tr>\n",
       "    <tr>\n",
       "      <th>2</th>\n",
       "      <td>6</td>\n",
       "      <td>003fe6c1d1b1611</td>\n",
       "      <td>3/4/2014</td>\n",
       "      <td>Japan</td>\n",
       "      <td>Windows 7</td>\n",
       "      <td>Chrome</td>\n",
       "      <td>google.cz/</td>\n",
       "      <td>['dataiku.com/products/', 'dataiku.com/product...</td>\n",
       "      <td>['products', 'products', 'products']</td>\n",
       "      <td>[7.0, 25.0, 10.0]</td>\n",
       "      <td>42.0</td>\n",
       "      <td>3</td>\n",
       "      <td>google.cz</td>\n",
       "    </tr>\n",
       "  </tbody>\n",
       "</table>\n",
       "</div>"
      ],
      "text/plain": [
       "   Unnamed: 0       session_id server_date        country    browser      os  \\\n",
       "0           0  0032636170691fd   3/24/2014  United States  Windows 7  Chrome   \n",
       "1           1  0039e021117bf7e   3/28/2014  United States   Mac OS X  Chrome   \n",
       "2           6  003fe6c1d1b1611    3/4/2014          Japan  Windows 7  Chrome   \n",
       "\n",
       "      referer                                  session_path_full  \\\n",
       "0         NaN  ['dataiku.com/blog/2012/12/07/visualizing-your...   \n",
       "1         NaN  ['dataiku.com/products/mining/', 'dataiku.com/...   \n",
       "2  google.cz/  ['dataiku.com/products/', 'dataiku.com/product...   \n",
       "\n",
       "                                  session_categories  \\\n",
       "0                                           ['blog']   \n",
       "1  ['products', 'products', 'applications', 'comp...   \n",
       "2               ['products', 'products', 'products']   \n",
       "\n",
       "              session_times_spent  session_total_time  session_total_pages  \\\n",
       "0                          [10.0]                10.0                    1   \n",
       "1  [96.0, 22.0, 22.0, 34.0, 10.0]               184.0                    5   \n",
       "2               [7.0, 25.0, 10.0]                42.0                    3   \n",
       "\n",
       "  referer_clean  \n",
       "0           NaN  \n",
       "1           NaN  \n",
       "2     google.cz  "
      ]
     },
     "execution_count": 3,
     "metadata": {},
     "output_type": "execute_result"
    }
   ],
   "source": [
    "clickstream.head(3)"
   ]
  },
  {
   "cell_type": "code",
   "execution_count": 4,
   "metadata": {
    "collapsed": true
   },
   "outputs": [],
   "source": [
    "clickstream.index = clickstream['session_id']; del clickstream['session_id']\n"
   ]
  },
  {
   "cell_type": "code",
   "execution_count": 5,
   "metadata": {
    "collapsed": false
   },
   "outputs": [
    {
     "data": {
      "text/plain": [
       "list"
      ]
     },
     "execution_count": 5,
     "metadata": {},
     "output_type": "execute_result"
    }
   ],
   "source": [
    "import ast\n",
    "clickstream['session_path_full'] = clickstream['session_path_full'].apply(ast.literal_eval)\n",
    "\n",
    "type(clickstream['session_path_full'][1]) #fixed"
   ]
  },
  {
   "cell_type": "code",
   "execution_count": 6,
   "metadata": {
    "collapsed": false
   },
   "outputs": [],
   "source": [
    "siteSeqLst = clickstream.session_path_full"
   ]
  },
  {
   "cell_type": "code",
   "execution_count": 7,
   "metadata": {
    "collapsed": false
   },
   "outputs": [
    {
     "name": "stdout",
     "output_type": "stream",
     "text": [
      "['dataiku.com/blog/2012/12/07/visualizing-your-linkedin-graph-using-gephi-part-2.html']\n",
      "['dataiku.com/products/mining/', 'dataiku.com/products/pricing/', 'dataiku.com/applications/', 'dataiku.com/company/team/', 'dataiku.com/products/']\n",
      "['dataiku.com/products/', 'dataiku.com/products/trynow/', 'dataiku.com/products/thankyou/']\n",
      "['dataiku.com/', 'dataiku.com/', 'dataiku.com/applications/', 'dataiku.com/products/', 'dataiku.com/company/team/']\n",
      "['dataiku.com/blog/2012/12/07/visualizing-your-linkedin-graph-using-gephi-part-1.html']\n",
      "['dataiku.com/', 'dataiku.com/products/', 'dataiku.com/products/shaker/', 'dataiku.com/products/mining/', 'dataiku.com/products/sharing/', 'dataiku.com/products/manage/', 'dataiku.com/applications/', 'dataiku.com/applications/ecommerce/', 'dataiku.com/applications/smartcities/', 'dataiku.com/applications/freemium/', 'dataiku.com/applications/advertising/', 'dataiku.com/applications/publishing/', 'dataiku.com/applications/revenue_forecast/', 'dataiku.com/products/manage/', 'dataiku.com/products/trynow/']\n"
     ]
    }
   ],
   "source": [
    "for row in siteSeqLst[0:6]:\n",
    "    print row"
   ]
  },
  {
   "cell_type": "code",
   "execution_count": 8,
   "metadata": {
    "collapsed": false
   },
   "outputs": [],
   "source": [
    "import apriori3\n",
    "import apriori3 as ap"
   ]
  },
  {
   "cell_type": "code",
   "execution_count": 24,
   "metadata": {
    "collapsed": false
   },
   "outputs": [],
   "source": [
    "L, support = ap.apriori(siteSeqLst, 0.1)"
   ]
  },
  {
   "cell_type": "code",
   "execution_count": 15,
   "metadata": {
    "collapsed": false
   },
   "outputs": [
    {
     "name": "stdout",
     "output_type": "stream",
     "text": [
      "[[frozenset(['dataiku.com/products/manage/']), frozenset(['dataiku.com/products/trynow/']), frozenset(['dataiku.com/company/team/']), frozenset(['dataiku.com/blog/2013/11/10/The-Six-Core-Skills-of-a-data-scientist.html']), frozenset(['dataiku.com/blog/2014/01/14/winning-kaggle.html']), frozenset(['dataiku.com/products/shaker/']), frozenset(['dataiku.com/applications/']), frozenset(['dataiku.com/products/']), frozenset(['dataiku.com/products/sharing/']), frozenset(['dataiku.com/company/careers/']), frozenset(['dataiku.com/']), frozenset(['dataiku.com/blog/']), frozenset(['dataiku.com/blog/2012/12/07/visualizing-your-linkedin-graph-using-gephi-part-1.html']), frozenset(['dataiku.com/products/mining/']), frozenset(['dataiku.com/products/pricing/'])], [frozenset(['dataiku.com/', 'dataiku.com/company/team/']), frozenset(['dataiku.com/products/manage/', 'dataiku.com/products/']), frozenset(['dataiku.com/applications/', 'dataiku.com/company/team/']), frozenset(['dataiku.com/products/pricing/', 'dataiku.com/']), frozenset(['dataiku.com/applications/', 'dataiku.com/products/']), frozenset(['dataiku.com/products/shaker/', 'dataiku.com/products/']), frozenset(['dataiku.com/company/team/', 'dataiku.com/products/']), frozenset(['dataiku.com/', 'dataiku.com/applications/']), frozenset(['dataiku.com/products/mining/', 'dataiku.com/products/']), frozenset(['dataiku.com/products/trynow/', 'dataiku.com/products/']), frozenset(['dataiku.com/company/team/', 'dataiku.com/company/careers/']), frozenset(['dataiku.com/products/pricing/', 'dataiku.com/products/']), frozenset(['dataiku.com/', 'dataiku.com/company/careers/']), frozenset(['dataiku.com/', 'dataiku.com/products/'])], [frozenset(['dataiku.com/products/pricing/', 'dataiku.com/', 'dataiku.com/products/']), frozenset(['dataiku.com/', 'dataiku.com/company/team/', 'dataiku.com/company/careers/']), frozenset(['dataiku.com/', 'dataiku.com/company/team/', 'dataiku.com/products/']), frozenset(['dataiku.com/', 'dataiku.com/applications/', 'dataiku.com/products/'])], []]\n"
     ]
    }
   ],
   "source": [
    "print L  #frequent itemset"
   ]
  },
  {
   "cell_type": "code",
   "execution_count": 11,
   "metadata": {
    "collapsed": false,
    "scrolled": true
   },
   "outputs": [
    {
     "name": "stdout",
     "output_type": "stream",
     "text": [
      "{frozenset(['dataiku.com/products/?bcsi-ac-e7ec86c04da68444=2211F03D000005030h9uamk/aa/kMLxZmRboFUnC2ac/BAAAAwUAAL8EmgEIBwAAYgEAAH/FEgA=;bcsi-ac-b5f45ffb1099c547=224D43CE00000503aeNp52zq5EZvV4f1IP/aNcdfhmJTAAAAAwUAAEfaBAAIBwAAIAAAAJxHAQA=']): 0.00025342118601115053, frozenset(['dataiku.com/applications/revenue_forecast/']): 0.020527116066903193, frozenset(['dataiku.com/', 'dataiku.com/products/']): 0.1629498226051698, frozenset(['dataiku.com/blog/2013/06/']): 0.0015205271160669033, frozenset(['dataiku.com/products/pricing/']): 0.09503294475418145, frozenset(['dataiku.com/blog/2013/03/12/thomas-at-strata-part-1.html']): 0.0020273694880892043, frozenset(['dataiku.com/blog/2012/12/07/visualizing-your-linkedin-graph-using-gephi-part-2.html']): 0.03725291434363913, frozenset(['dataiku.com/blog/2013/05/03/the-new-search-fuzzy-instantaneous-and-local.html']): 0.012417638114546376, frozenset(['dataiku.com/blog/2012/10/03/setting-up-a-cool-data-science-platform-for-cheap.html']): 0.015458692346680182, frozenset(['dataiku.com/blog/2013/06/13/berlin-buzzwords-part-2-introducing-dataiku-flow-and-dctc.html']): 0.0020273694880892043, frozenset(['dataiku.com/', 'dataiku.com/company/careers/']): 0.08286872782564622, frozenset(['dataiku.com/products/mining/']): 0.08793715154586923, frozenset(['dataiku.com/blog/2012/07/01/visualizing-french-tax-data.html']): 0.0015205271160669033, frozenset(['dataiku.com/products/?bcsi-ac-b5f45ffb1099c547=224D43CE00000503hox5UfEpdpRF15oez6Yzmlo47m5WAAAAAwUAADv8BAAIBwAAHAAAANyaAQA=;bcsi-ac-f36447ef44bbdc17=22148F8900000503ctVfeAIrAeqP30XzVbn6ZPp7a7cdBAAAAwUAALS1PQAIBwAAKgEAADx7HgA=']): 0.00025342118601115053, frozenset(['dataiku.com/applications/ecommerce/']): 0.049417131272174356, frozenset(['dataiku.com/blog/2012/09/10/a-simple-recommendation-engine-implemented-in-different-languages.html']): 0.016979219462747084, frozenset(['dataiku.com/blog/2012/12/07/visualizing-your-linkedin-graph-using-gephi-part-1.html']): 0.06639635073492144, frozenset(['dataiku.com/blog/']): 0.07197161682716675, frozenset(['dataiku.com/blog/2013/06/13/dataiku-at-berlin-buzzwords-2013-part-1.html']): 0.0015205271160669033, frozenset(['dataiku.com/blog/2013/11/10/The-Six-Core-Skills-of-a-data-scientist.html']): 0.06943740496705525, frozenset(['dataiku.com/company/careers/', 'dataiku.com/products/']): 0.04282818043588444, frozenset(['dataiku.com/']): 0.4799797263051191, frozenset(['dataiku.com/company/careers/']): 0.12164216928535225, frozenset(['dataiku.com/products/sharing/']): 0.050177394830207805, frozenset(['dataiku.com/blog/2013/06/13/berlin-buzzwords-part-2-introducing-dataiku-flow-and-dctc.html?utm_source=feedly&utm_reader=feedly&utm_medium=rss&utm_campaign=berlin-buzzwords-part-2-introducing-dataiku-flow-and-dctc']): 0.00025342118601115053, frozenset(['dataiku.com/blog/2012/10/']): 0.0005068423720223011, frozenset(['dataiku.com/applications/', 'dataiku.com/company/team/']): 0.05955397871262037, frozenset(['dataiku.com/products/thankyou/']): 0.010897110998479472, frozenset(['dataiku.com/applications/publishing/']): 0.019513431322858592, frozenset(['dataiku.com/products/']): 0.3028383172833249, frozenset(['dataiku.com/data-science/']): 0.0012671059300557526, frozenset(['dataiku.com/products/?bcsi-ac-b5f45ffb1099c547=224D43CE00000503nuGIcQgk4iTdraqHfB3TKgfJOaVWAAAAAwUAANH9BAAIBwAAHgAAANWeAQA=']): 0.0005068423720223011, frozenset(['dataiku.com/applications/', 'dataiku.com/products/']): 0.08540293968575773, frozenset(['dataiku.com/applications/freemium/']): 0.0496705524581855, frozenset(['dataiku.com/blog/2013/11/']): 0.002787633046122656, frozenset(['dataiku.com/blog/2012/07/']): 0.0015205271160669033, frozenset(['dataiku.com/company/team/', 'dataiku.com/company/careers/']): 0.08438925494171312, frozenset(['dataiku.com/blog/2013/03/']): 0.0010136847440446021, frozenset(['dataiku.com/blog/2014/01/']): 0.004308160162189559, frozenset(['dataiku.com/blog/2013/05/']): 0.0010136847440446021, frozenset(['dataiku.com/blog/2014/01/14/winning-kaggle.html']): 0.07247845919918905, frozenset(['dataiku.com/company/team/', 'dataiku.com/products/']): 0.08514951849974658, frozenset(['dataiku.com/applications/', 'dataiku.com/company/careers/']): 0.02939685757729346, frozenset(['dataiku.com/blog/2012/09/']): 0.0007602635580334517, frozenset(['dataiku.com/', 'dataiku.com/applications/']): 0.08717688798783578, frozenset(['dataiku.com/blog/page2/']): 0.006082108464267613, frozenset(['dataiku.com//blog/2013/11/10/The-Six-Core-Skills-of-a-data-scientist.html']): 0.0005068423720223011, frozenset(['dataiku.com/blog/2013/03/21/thomas-at-strata-part-2.html']): 0.0017739483020780538, frozenset(['dataiku.com/blog/2012/12/']): 0.0007602635580334517, frozenset(['dataiku.com/company/team/']): 0.19893563101875317, frozenset(['dataiku.com/', 'dataiku.com/company/team/', 'dataiku.com/products/']): 0.06360871768879878, frozenset(['dataiku.com/products/trynow/']): 0.06639635073492144, frozenset(['dataiku.com/', 'dataiku.com/company/team/']): 0.13253928028383172, frozenset(['dataiku.com/products/manage/']): 0.06538266599087683, frozenset(['dataiku.com/company/team/?_sm_b=aaaaaaaaaaaaaaaaa6']): 0.00025342118601115053, frozenset([\"dataiku.com/blog/2012/12/07/visualizing-your-linkedin-graph-using-gephi-part-1.html;userApiKey=sapuk-363c81e6-0e5e082b-73e5544a-71f3-4f05fc39-3,message='Please report abuse to support@snapito.com'\"]): 0.0005068423720223011, frozenset(['dataiku.com/blog/2013/10/24/Machine-Learning-For-Merchandising.html']): 0.004308160162189559, frozenset(['dataiku.com/blog/2013/10/']): 0.0017739483020780538, frozenset(['dataiku.com/blog/2012/12/07/visualizing-your-linkedin-graph-using-gephi-part-2.html?utm_source=disqus-dashboard']): 0.00025342118601115053, frozenset(['dataiku.com/blog/page3/']): 0.0035478966041561076, frozenset(['dataiku.com/blog/2013/04/']): 0.0012671059300557526, frozenset(['dataiku.com//blog/2014/01/14/winning-kaggle.html']): 0.00506842372022301, frozenset(['dataiku.com/applications/smartcities/']): 0.04688291941206285, frozenset(['dataiku.com/blog/2013/04/26/kaggle-contest-blue-book-for-bulldozers.html']): 0.004308160162189559, frozenset(['dataiku.com/blog/2013/05/01/a-complete-guide-to-writing-hive-udf.html']): 0.00025342118601115053, frozenset(['dataiku.com/products/shaker/']): 0.08084135833755703, frozenset(['dataiku.com/applications/']): 0.13000506842372023, frozenset([\"dataiku.com/blog/2012/12/07/visualizing-your-linkedin-graph-using-gephi-part-2.html;userApiKey=sapuk-363c81e6-0e5e082b-73e5544a-71f3-4f05fc39-3,message='Please report abuse to support@snapito.com'\"]): 0.0005068423720223011, frozenset(['dataiku.com/applications/advertising/']): 0.026609224531170806}\n"
     ]
    }
   ],
   "source": [
    "print support"
   ]
  },
  {
   "cell_type": "code",
   "execution_count": 26,
   "metadata": {
    "collapsed": false
   },
   "outputs": [
    {
     "name": "stdout",
     "output_type": "stream",
     "text": [
      "frozenset(['dataiku.com/company/team/']) --> frozenset(['dataiku.com/']) conf: 0.666242038217  lift: 1.38806287371\n",
      "frozenset(['dataiku.com/']) --> frozenset(['dataiku.com/company/team/']) conf: 0.276135163675  lift: 1.38806287371\n",
      "frozenset(['dataiku.com/products/']) --> frozenset(['dataiku.com/']) conf: 0.538075313808  lift: 1.12103758621\n",
      "frozenset(['dataiku.com/']) --> frozenset(['dataiku.com/products/']) conf: 0.33949313622  lift: 1.12103758621\n"
     ]
    }
   ],
   "source": [
    "ruleList = ap.generateRules(L, support, metric = 'lift', minMetric=1)\n",
    "\n",
    "ruledf_supp10percent = pd.DataFrame(ruleList).sort_values(by = 3, ascending=False)\n",
    "ruledf_supp10percent.to_csv(\"rule_df_supp10percent.csv\")\n",
    "\n"
   ]
  },
  {
   "cell_type": "code",
   "execution_count": 27,
   "metadata": {
    "collapsed": false
   },
   "outputs": [],
   "source": [
    "#let's try again, but with page categories, which might be safer than messy urls\n",
    "clickstream['session_categories'] = clickstream['session_categories'].apply(ast.literal_eval)\n",
    "\n",
    "session_categories = clickstream.session_categories    "
   ]
  },
  {
   "cell_type": "code",
   "execution_count": 28,
   "metadata": {
    "collapsed": false
   },
   "outputs": [
    {
     "name": "stdout",
     "output_type": "stream",
     "text": [
      "frozenset(['products']) --> frozenset(['applications']) conf: 0.327983251919  lift: 1.81263573119\n",
      "frozenset(['applications']) --> frozenset(['products']) conf: 0.658263305322  lift: 1.81263573119\n",
      "frozenset(['company']) --> frozenset(['home']) conf: 0.633440514469  lift: 1.31972347946\n",
      "frozenset(['home']) --> frozenset(['company']) conf: 0.312038014784  lift: 1.31972347946\n",
      "frozenset(['applications']) --> frozenset(['home']) conf: 0.676470588235  lift: 1.409373253\n",
      "frozenset(['home']) --> frozenset(['applications']) conf: 0.255015839493  lift: 1.409373253\n",
      "frozenset(['products']) --> frozenset(['home']) conf: 0.492672714585  lift: 1.02644484253\n",
      "frozenset(['home']) --> frozenset(['products']) conf: 0.372756071806  lift: 1.02644484253\n"
     ]
    }
   ],
   "source": [
    "L_cat, support_cat = ap.apriori(session_categories, 0.1)\n",
    "ruleList_cat = ap.generateRules(L_cat, support_cat, metric = 'lift', minMetric=1)   #we see different patterns here\n",
    "\n",
    "#whereas product -> home seemed to generate the highest lift, w/ high confidence in the url-based rules ...\n",
    "#this set lists the confidence for a move like that as much lower (almost 20%)\n",
    "#what does that mean for our url-based rules? do we need to standardize the urls more?"
   ]
  },
  {
   "cell_type": "code",
   "execution_count": 56,
   "metadata": {
    "collapsed": false
   },
   "outputs": [],
   "source": [
    "#What if we just look at sessions that contain the pricing and thank you pages\n",
    "\n",
    "clickstream['session_path_full'] = clickstream['session_path_full'].apply(str)\n",
    "clickstream_sessions_thanks = clickstream['session_path_full'][clickstream['session_path_full'].str.contains('thankyou')]"
   ]
  },
  {
   "cell_type": "code",
   "execution_count": 57,
   "metadata": {
    "collapsed": false
   },
   "outputs": [],
   "source": [
    "clickstream_sessions_thanks = clickstream_sessions_thanks.apply(ast.literal_eval)"
   ]
  },
  {
   "cell_type": "code",
   "execution_count": 61,
   "metadata": {
    "collapsed": false
   },
   "outputs": [
    {
     "name": "stdout",
     "output_type": "stream",
     "text": [
      "frozenset(['dataiku.com/products/']) --> frozenset(['dataiku.com/products/thankyou/']) conf: 1.0  lift: 1.0\n",
      "frozenset(['dataiku.com/products/thankyou/']) --> frozenset(['dataiku.com/products/']) conf: 0.767441860465  lift: 1.0\n",
      "frozenset(['dataiku.com/']) --> frozenset(['dataiku.com/products/trynow/']) conf: 0.9  lift: 1.13823529412\n",
      "frozenset(['dataiku.com/products/trynow/']) --> frozenset(['dataiku.com/']) conf: 0.529411764706  lift: 1.13823529412\n",
      "frozenset(['dataiku.com/products/thankyou/']) --> frozenset(['dataiku.com/']) conf: 0.46511627907  lift: 1.0\n",
      "frozenset(['dataiku.com/']) --> frozenset(['dataiku.com/products/thankyou/']) conf: 1.0  lift: 1.0\n",
      "frozenset(['dataiku.com/products/']) --> frozenset(['dataiku.com/']) conf: 0.515151515152  lift: 1.10757575758\n",
      "frozenset(['dataiku.com/']) --> frozenset(['dataiku.com/products/']) conf: 0.85  lift: 1.10757575758\n",
      "frozenset(['dataiku.com/products/']) --> frozenset(['dataiku.com/products/trynow/']) conf: 0.909090909091  lift: 1.14973262032\n",
      "frozenset(['dataiku.com/products/trynow/']) --> frozenset(['dataiku.com/products/']) conf: 0.882352941176  lift: 1.14973262032\n",
      "frozenset(['dataiku.com/products/thankyou/']) --> frozenset(['dataiku.com/products/trynow/']) conf: 0.790697674419  lift: 1.0\n",
      "frozenset(['dataiku.com/products/trynow/']) --> frozenset(['dataiku.com/products/thankyou/']) conf: 1.0  lift: 1.0\n",
      "frozenset(['dataiku.com/products/']) --> frozenset(['dataiku.com/products/trynow/', 'dataiku.com/']) conf: 0.515151515152  lift: 1.23063973064\n",
      "frozenset(['dataiku.com/']) --> frozenset(['dataiku.com/products/trynow/', 'dataiku.com/products/']) conf: 0.85  lift: 1.21833333333\n",
      "frozenset(['dataiku.com/products/trynow/']) --> frozenset(['dataiku.com/', 'dataiku.com/products/']) conf: 0.5  lift: 1.26470588235\n",
      "frozenset(['dataiku.com/products/thankyou/']) --> frozenset(['dataiku.com/products/trynow/', 'dataiku.com/']) conf: 0.418604651163  lift: 1.0\n",
      "frozenset(['dataiku.com/']) --> frozenset(['dataiku.com/products/trynow/', 'dataiku.com/products/thankyou/']) conf: 0.9  lift: 1.13823529412\n",
      "frozenset(['dataiku.com/products/trynow/']) --> frozenset(['dataiku.com/', 'dataiku.com/products/thankyou/']) conf: 0.529411764706  lift: 1.13823529412\n",
      "frozenset(['dataiku.com/products/']) --> frozenset(['dataiku.com/products/trynow/', 'dataiku.com/products/thankyou/']) conf: 0.909090909091  lift: 1.14973262032\n",
      "frozenset(['dataiku.com/products/thankyou/']) --> frozenset(['dataiku.com/products/trynow/', 'dataiku.com/products/']) conf: 0.697674418605  lift: 1.0\n",
      "frozenset(['dataiku.com/products/trynow/']) --> frozenset(['dataiku.com/products/thankyou/', 'dataiku.com/products/']) conf: 0.882352941176  lift: 1.14973262032\n",
      "frozenset(['dataiku.com/products/']) --> frozenset(['dataiku.com/', 'dataiku.com/products/thankyou/']) conf: 0.515151515152  lift: 1.10757575758\n",
      "frozenset(['dataiku.com/products/thankyou/']) --> frozenset(['dataiku.com/', 'dataiku.com/products/']) conf: 0.395348837209  lift: 1.0\n",
      "frozenset(['dataiku.com/']) --> frozenset(['dataiku.com/products/thankyou/', 'dataiku.com/products/']) conf: 0.85  lift: 1.10757575758\n",
      "frozenset(['dataiku.com/', 'dataiku.com/products/thankyou/']) --> frozenset(['dataiku.com/products/trynow/', 'dataiku.com/products/']) conf: 0.85  lift: 1.21833333333\n",
      "frozenset(['dataiku.com/products/trynow/', 'dataiku.com/products/thankyou/']) --> frozenset(['dataiku.com/', 'dataiku.com/products/']) conf: 0.5  lift: 1.26470588235\n",
      "frozenset(['dataiku.com/products/trynow/', 'dataiku.com/']) --> frozenset(['dataiku.com/products/thankyou/', 'dataiku.com/products/']) conf: 0.944444444444  lift: 1.23063973064\n",
      "frozenset(['dataiku.com/products/thankyou/', 'dataiku.com/products/']) --> frozenset(['dataiku.com/products/trynow/', 'dataiku.com/']) conf: 0.515151515152  lift: 1.23063973064\n",
      "frozenset(['dataiku.com/', 'dataiku.com/products/']) --> frozenset(['dataiku.com/products/trynow/', 'dataiku.com/products/thankyou/']) conf: 1.0  lift: 1.26470588235\n",
      "frozenset(['dataiku.com/products/trynow/', 'dataiku.com/products/']) --> frozenset(['dataiku.com/', 'dataiku.com/products/thankyou/']) conf: 0.566666666667  lift: 1.21833333333\n",
      "frozenset(['dataiku.com/products/thankyou/']) --> frozenset(['dataiku.com/products/trynow/', 'dataiku.com/', 'dataiku.com/products/']) conf: 0.395348837209  lift: 1.0\n",
      "frozenset(['dataiku.com/']) --> frozenset(['dataiku.com/products/trynow/', 'dataiku.com/products/thankyou/', 'dataiku.com/products/']) conf: 0.85  lift: 1.21833333333\n",
      "frozenset(['dataiku.com/products/trynow/']) --> frozenset(['dataiku.com/', 'dataiku.com/products/thankyou/', 'dataiku.com/products/']) conf: 0.5  lift: 1.26470588235\n",
      "frozenset(['dataiku.com/products/']) --> frozenset(['dataiku.com/products/trynow/', 'dataiku.com/', 'dataiku.com/products/thankyou/']) conf: 0.515151515152  lift: 1.23063973064\n"
     ]
    }
   ],
   "source": [
    "L_thx, support_thx = ap.apriori(clickstream_sessions_thanks, 0.3)\n",
    "ruleList_thx = ap.generateRules(L_thx, support_thx, metric = 'lift', minMetric=1)   #we see different patterns here\n",
    "\n",
    "ruledf_thx_30pct = pd.DataFrame(ruleList_thx).sort_values(by = 3, ascending=False)\n",
    "ruledf_thx_30pct.to_csv(\"ruledf_thx_30pct.csv\")\n"
   ]
  },
  {
   "cell_type": "code",
   "execution_count": 75,
   "metadata": {
    "collapsed": false
   },
   "outputs": [
    {
     "name": "stdout",
     "output_type": "stream",
     "text": [
      "frozenset(['dataiku.com/products/manage/']) --> frozenset(['dataiku.com/']) conf: 0.641304347826  lift: 1.15181636156\n",
      "frozenset(['dataiku.com/']) --> frozenset(['dataiku.com/products/manage/']) conf: 0.388157894737  lift: 1.15181636156\n",
      "frozenset(['dataiku.com/products/shaker/']) --> frozenset(['dataiku.com/']) conf: 0.636842105263  lift: 1.14380193906\n",
      "frozenset(['dataiku.com/']) --> frozenset(['dataiku.com/products/shaker/']) conf: 0.398026315789  lift: 1.14380193906\n",
      "frozenset(['dataiku.com/products/mining/']) --> frozenset(['dataiku.com/products/pricing/']) conf: 0.791044776119  lift: 1.15176119403\n",
      "frozenset(['dataiku.com/products/pricing/']) --> frozenset(['dataiku.com/products/mining/']) conf: 0.424  lift: 1.15176119403\n",
      "frozenset(['dataiku.com/products/']) --> frozenset(['dataiku.com/products/manage/']) conf: 0.369158878505  lift: 1.095438846\n",
      "frozenset(['dataiku.com/products/manage/']) --> frozenset(['dataiku.com/products/']) conf: 0.858695652174  lift: 1.095438846\n",
      "frozenset(['dataiku.com/products/manage/']) --> frozenset(['dataiku.com/products/shaker/']) conf: 0.695652173913  lift: 1.99908466819\n",
      "frozenset(['dataiku.com/products/shaker/']) --> frozenset(['dataiku.com/products/manage/']) conf: 0.673684210526  lift: 1.99908466819\n",
      "frozenset(['dataiku.com/applications/']) --> frozenset(['dataiku.com/products/pricing/']) conf: 0.76397515528  lift: 1.11234782609\n",
      "frozenset(['dataiku.com/products/pricing/']) --> frozenset(['dataiku.com/applications/']) conf: 0.328  lift: 1.11234782609\n",
      "frozenset(['dataiku.com/']) --> frozenset(['dataiku.com/products/pricing/']) conf: 0.694078947368  lift: 1.01057894737\n",
      "frozenset(['dataiku.com/products/pricing/']) --> frozenset(['dataiku.com/']) conf: 0.562666666667  lift: 1.01057894737\n",
      "frozenset(['dataiku.com/products/']) --> frozenset(['dataiku.com/products/sharing/']) conf: 0.275700934579  lift: 1.12337843493\n",
      "frozenset(['dataiku.com/products/sharing/']) --> frozenset(['dataiku.com/products/']) conf: 0.880597014925  lift: 1.12337843493\n",
      "frozenset(['dataiku.com/products/sharing/']) --> frozenset(['dataiku.com/products/pricing/']) conf: 0.865671641791  lift: 1.26041791045\n",
      "frozenset(['dataiku.com/products/pricing/']) --> frozenset(['dataiku.com/products/sharing/']) conf: 0.309333333333  lift: 1.26041791045\n",
      "frozenset(['dataiku.com/products/mining/']) --> frozenset(['dataiku.com/']) conf: 0.636815920398  lift: 1.14375490966\n",
      "frozenset(['dataiku.com/']) --> frozenset(['dataiku.com/products/mining/']) conf: 0.421052631579  lift: 1.14375490966\n",
      "frozenset(['dataiku.com/company/team/']) --> frozenset(['dataiku.com/']) conf: 0.739393939394  lift: 1.32799043062\n",
      "frozenset(['dataiku.com/']) --> frozenset(['dataiku.com/company/team/']) conf: 0.401315789474  lift: 1.32799043062\n",
      "frozenset(['dataiku.com/products/']) --> frozenset(['dataiku.com/applications/']) conf: 0.345794392523  lift: 1.17269402682\n",
      "frozenset(['dataiku.com/applications/']) --> frozenset(['dataiku.com/products/']) conf: 0.919254658385  lift: 1.17269402682\n",
      "frozenset(['dataiku.com/company/team/']) --> frozenset(['dataiku.com/products/pricing/']) conf: 0.787878787879  lift: 1.14715151515\n",
      "frozenset(['dataiku.com/products/pricing/']) --> frozenset(['dataiku.com/company/team/']) conf: 0.346666666667  lift: 1.14715151515\n",
      "frozenset(['dataiku.com/products/']) --> frozenset(['dataiku.com/products/shaker/']) conf: 0.371495327103  lift: 1.06756025578\n",
      "frozenset(['dataiku.com/products/shaker/']) --> frozenset(['dataiku.com/products/']) conf: 0.836842105263  lift: 1.06756025578\n",
      "frozenset(['dataiku.com/products/manage/']) --> frozenset(['dataiku.com/products/pricing/']) conf: 0.847826086957  lift: 1.23443478261\n",
      "frozenset(['dataiku.com/products/pricing/']) --> frozenset(['dataiku.com/products/manage/']) conf: 0.416  lift: 1.23443478261\n",
      "frozenset(['dataiku.com/products/']) --> frozenset(['dataiku.com/products/mining/']) conf: 0.404205607477  lift: 1.09799135165\n",
      "frozenset(['dataiku.com/products/mining/']) --> frozenset(['dataiku.com/products/']) conf: 0.860696517413  lift: 1.09799135165\n",
      "frozenset(['dataiku.com/products/mining/']) --> frozenset(['dataiku.com/products/shaker/']) conf: 0.661691542289  lift: 1.90149253731\n",
      "frozenset(['dataiku.com/products/shaker/']) --> frozenset(['dataiku.com/products/mining/']) conf: 0.7  lift: 1.90149253731\n",
      "frozenset(['dataiku.com/']) --> frozenset(['dataiku.com/products/trynow/']) conf: 0.490131578947  lift: 1.02141924468\n",
      "frozenset(['dataiku.com/products/trynow/']) --> frozenset(['dataiku.com/']) conf: 0.568702290076  lift: 1.02141924468\n",
      "frozenset(['dataiku.com/products/']) --> frozenset(['dataiku.com/products/pricing/']) conf: 0.705607476636  lift: 1.02736448598\n",
      "frozenset(['dataiku.com/products/pricing/']) --> frozenset(['dataiku.com/products/']) conf: 0.805333333333  lift: 1.02736448598\n",
      "frozenset(['dataiku.com/products/shaker/']) --> frozenset(['dataiku.com/products/pricing/']) conf: 0.805263157895  lift: 1.17246315789\n",
      "frozenset(['dataiku.com/products/pricing/']) --> frozenset(['dataiku.com/products/shaker/']) conf: 0.408  lift: 1.17246315789\n",
      "frozenset(['dataiku.com/products/']) --> frozenset(['dataiku.com/company/team/']) conf: 0.348130841121  lift: 1.15199660153\n",
      "frozenset(['dataiku.com/company/team/']) --> frozenset(['dataiku.com/products/']) conf: 0.90303030303  lift: 1.15199660153\n",
      "frozenset(['dataiku.com/products/manage/']) --> frozenset(['dataiku.com/products/mining/']) conf: 0.695652173913  lift: 1.88968202466\n",
      "frozenset(['dataiku.com/products/mining/']) --> frozenset(['dataiku.com/products/manage/']) conf: 0.636815920398  lift: 1.88968202466\n",
      "frozenset(['dataiku.com/products/']) --> frozenset(['dataiku.com/']) conf: 0.614485981308  lift: 1.1036491638\n",
      "frozenset(['dataiku.com/']) --> frozenset(['dataiku.com/products/']) conf: 0.865131578947  lift: 1.1036491638\n",
      "frozenset(['dataiku.com/products/']) --> frozenset(['dataiku.com/products/pricing/', 'dataiku.com/applications/']) conf: 0.271028037383  lift: 1.20310006838\n",
      "frozenset(['dataiku.com/applications/']) --> frozenset(['dataiku.com/products/pricing/', 'dataiku.com/products/']) conf: 0.72049689441  lift: 1.30262021307\n",
      "frozenset(['dataiku.com/products/pricing/']) --> frozenset(['dataiku.com/applications/', 'dataiku.com/products/']) conf: 0.309333333333  lift: 1.14118918919\n",
      "frozenset(['dataiku.com/products/']) --> frozenset(['dataiku.com/products/pricing/', 'dataiku.com/products/shaker/']) conf: 0.303738317757  lift: 1.08392889866\n",
      "frozenset(['dataiku.com/products/shaker/']) --> frozenset(['dataiku.com/products/pricing/', 'dataiku.com/products/']) conf: 0.684210526316  lift: 1.23701638201\n",
      "frozenset(['dataiku.com/products/pricing/']) --> frozenset(['dataiku.com/products/shaker/', 'dataiku.com/products/']) conf: 0.346666666667  lift: 1.19044025157\n",
      "frozenset(['dataiku.com/products/']) --> frozenset(['dataiku.com/products/pricing/', 'dataiku.com/products/mining/']) conf: 0.32476635514  lift: 1.11523540822\n",
      "frozenset(['dataiku.com/products/mining/']) --> frozenset(['dataiku.com/products/pricing/', 'dataiku.com/products/']) conf: 0.691542288557  lift: 1.25027181971\n",
      "frozenset(['dataiku.com/products/pricing/']) --> frozenset(['dataiku.com/products/mining/', 'dataiku.com/products/']) conf: 0.370666666667  lift: 1.16984971098\n",
      "frozenset(['dataiku.com/products/']) --> frozenset(['dataiku.com/products/mining/', 'dataiku.com/products/shaker/']) conf: 0.273364485981  lift: 1.12223315298\n",
      "frozenset(['dataiku.com/products/shaker/']) --> frozenset(['dataiku.com/products/mining/', 'dataiku.com/products/']) conf: 0.615789473684  lift: 1.94347429267\n",
      "frozenset(['dataiku.com/products/mining/']) --> frozenset(['dataiku.com/products/shaker/', 'dataiku.com/products/']) conf: 0.582089552239  lift: 1.99887355674\n",
      "frozenset(['dataiku.com/products/']) --> frozenset(['dataiku.com/', 'dataiku.com/company/team/']) conf: 0.261682242991  lift: 1.1711352842\n",
      "frozenset(['dataiku.com/company/team/']) --> frozenset(['dataiku.com/', 'dataiku.com/products/']) conf: 0.678787878788  lift: 1.40919460767\n",
      "frozenset(['dataiku.com/']) --> frozenset(['dataiku.com/company/team/', 'dataiku.com/products/']) conf: 0.368421052632  lift: 1.35005298481\n",
      "frozenset(['dataiku.com/products/manage/']) --> frozenset(['dataiku.com/products/pricing/', 'dataiku.com/products/mining/']) conf: 0.619565217391  lift: 2.1275635767\n",
      "frozenset(['dataiku.com/products/mining/']) --> frozenset(['dataiku.com/products/pricing/', 'dataiku.com/products/manage/']) conf: 0.567164179104  lift: 1.98507462687\n",
      "frozenset(['dataiku.com/products/pricing/']) --> frozenset(['dataiku.com/products/mining/', 'dataiku.com/products/manage/']) conf: 0.304  lift: 1.29675\n",
      "frozenset(['dataiku.com/products/']) --> frozenset(['dataiku.com/products/pricing/', 'dataiku.com/company/team/']) conf: 0.280373831776  lift: 1.17757009346\n",
      "frozenset(['dataiku.com/company/team/']) --> frozenset(['dataiku.com/products/pricing/', 'dataiku.com/products/']) conf: 0.727272727273  lift: 1.3148705599\n",
      "frozenset(['dataiku.com/products/pricing/']) --> frozenset(['dataiku.com/company/team/', 'dataiku.com/products/']) conf: 0.32  lift: 1.17261744966\n",
      "frozenset(['dataiku.com/products/']) --> frozenset(['dataiku.com/', 'dataiku.com/products/mining/']) conf: 0.266355140187  lift: 1.13617114486\n",
      "frozenset(['dataiku.com/products/mining/']) --> frozenset(['dataiku.com/', 'dataiku.com/products/']) conf: 0.567164179104  lift: 1.17745871403\n",
      "frozenset(['dataiku.com/']) --> frozenset(['dataiku.com/products/mining/', 'dataiku.com/products/']) conf: 0.375  lift: 1.18352601156\n",
      "frozenset(['dataiku.com/products/']) --> frozenset(['dataiku.com/products/mining/', 'dataiku.com/products/manage/']) conf: 0.264018691589  lift: 1.12620473131\n",
      "frozenset(['dataiku.com/products/manage/']) --> frozenset(['dataiku.com/products/mining/', 'dataiku.com/products/']) conf: 0.614130434783  lift: 1.93823825082\n",
      "frozenset(['dataiku.com/products/mining/']) --> frozenset(['dataiku.com/products/manage/', 'dataiku.com/products/']) conf: 0.562189054726  lift: 1.94275458152\n",
      "frozenset(['dataiku.com/products/manage/']) --> frozenset(['dataiku.com/products/pricing/', 'dataiku.com/products/shaker/']) conf: 0.625  lift: 2.23039215686\n",
      "frozenset(['dataiku.com/products/shaker/']) --> frozenset(['dataiku.com/products/pricing/', 'dataiku.com/products/manage/']) conf: 0.605263157895  lift: 2.11842105263\n",
      "frozenset(['dataiku.com/products/pricing/']) --> frozenset(['dataiku.com/products/shaker/', 'dataiku.com/products/manage/']) conf: 0.306666666667  lift: 1.308125\n",
      "frozenset(['dataiku.com/products/']) --> frozenset(['dataiku.com/products/pricing/', 'dataiku.com/']) conf: 0.464953271028  lift: 1.20314922266\n",
      "frozenset(['dataiku.com/']) --> frozenset(['dataiku.com/products/pricing/', 'dataiku.com/products/']) conf: 0.654605263158  lift: 1.18349163472\n",
      "frozenset(['dataiku.com/products/pricing/']) --> frozenset(['dataiku.com/', 'dataiku.com/products/']) conf: 0.530666666667  lift: 1.10168821293\n",
      "frozenset(['dataiku.com/products/']) --> frozenset(['dataiku.com/products/shaker/', 'dataiku.com/products/manage/']) conf: 0.268691588785  lift: 1.14613755841\n",
      "frozenset(['dataiku.com/products/manage/']) --> frozenset(['dataiku.com/products/shaker/', 'dataiku.com/products/']) conf: 0.625  lift: 2.14622641509\n",
      "frozenset(['dataiku.com/products/shaker/']) --> frozenset(['dataiku.com/products/manage/', 'dataiku.com/products/']) conf: 0.605263157895  lift: 2.09160559627\n",
      "frozenset(['dataiku.com/products/mining/']) --> frozenset(['dataiku.com/products/shaker/', 'dataiku.com/products/manage/']) conf: 0.547263681592  lift: 2.33442164179\n",
      "frozenset(['dataiku.com/products/manage/']) --> frozenset(['dataiku.com/products/shaker/', 'dataiku.com/products/mining/']) conf: 0.597826086957  lift: 2.45423340961\n",
      "frozenset(['dataiku.com/products/shaker/']) --> frozenset(['dataiku.com/products/mining/', 'dataiku.com/products/manage/']) conf: 0.578947368421  lift: 2.46957236842\n",
      "frozenset(['dataiku.com/products/']) --> frozenset(['dataiku.com/products/pricing/', 'dataiku.com/products/manage/']) conf: 0.32476635514  lift: 1.13668224299\n",
      "frozenset(['dataiku.com/products/manage/']) --> frozenset(['dataiku.com/products/pricing/', 'dataiku.com/products/']) conf: 0.755434782609  lift: 1.36578606392\n",
      "frozenset(['dataiku.com/products/pricing/']) --> frozenset(['dataiku.com/products/manage/', 'dataiku.com/products/']) conf: 0.370666666667  lift: 1.28091139241\n",
      "frozenset(['dataiku.com/products/shaker/']) --> frozenset(['dataiku.com/products/pricing/', 'dataiku.com/products/mining/']) conf: 0.605263157895  lift: 2.07845084409\n",
      "frozenset(['dataiku.com/products/mining/']) --> frozenset(['dataiku.com/products/pricing/', 'dataiku.com/products/shaker/']) conf: 0.572139303483  lift: 2.04175202419\n",
      "frozenset(['dataiku.com/products/pricing/']) --> frozenset(['dataiku.com/products/mining/', 'dataiku.com/products/shaker/']) conf: 0.306666666667  lift: 1.25894736842\n"
     ]
    }
   ],
   "source": [
    "clickstream_sessions_pricingortry = clickstream['session_path_full'][clickstream['session_path_full'].str.contains('pricing|trynow')]\n",
    "clickstream_sessions_pricingortry = clickstream_sessions_pricingortry.apply(ast.literal_eval)\n",
    "\n",
    "L_pricingortry, support_pricingortry = ap.apriori(clickstream_sessions_pricingortry, 0.2)\n",
    "ruleList_pricingortry = ap.generateRules(L_pricingortry, support_pricingortry, metric = 'lift', minMetric=1)\n",
    "ruledf_pricingortry = pd.DataFrame(ruleList_pricingortry).sort_values(by = 3, ascending=False)\n"
   ]
  },
  {
   "cell_type": "code",
   "execution_count": 76,
   "metadata": {
    "collapsed": true
   },
   "outputs": [],
   "source": [
    "ruledf_pricingortry.to_csv(\"ruledf_pricingortry.csv\")"
   ]
  },
  {
   "cell_type": "code",
   "execution_count": 74,
   "metadata": {
    "collapsed": false
   },
   "outputs": [
    {
     "data": {
      "text/plain": [
       "1254    (dataiku.com/products/sharing/, dataiku.com/pr...\n",
       "1303    (dataiku.com/products/pricing/, dataiku.com/pr...\n",
       "1286    (dataiku.com/products/pricing/, dataiku.com/pr...\n",
       "1270    (dataiku.com/products/sharing/, dataiku.com/pr...\n",
       "1287    (dataiku.com/products/mining/, dataiku.com/pro...\n",
       "1275    (dataiku.com/products/pricing/, dataiku.com/pr...\n",
       "854     (dataiku.com/products/sharing/, dataiku.com/pr...\n",
       "873     (dataiku.com/products/pricing/, dataiku.com/pr...\n",
       "1265    (dataiku.com/products/mining/, dataiku.com/pro...\n",
       "1294    (dataiku.com/products/pricing/, dataiku.com/pr...\n",
       "1079    (dataiku.com/products/sharing/, dataiku.com/pr...\n",
       "1098    (dataiku.com/products/mining/, dataiku.com/pro...\n",
       "867     (dataiku.com/products/pricing/, dataiku.com/pr...\n",
       "862     (dataiku.com/products/mining/, dataiku.com/pro...\n",
       "1274    (dataiku.com/products/sharing/, dataiku.com/pr...\n",
       "1282    (dataiku.com/products/pricing/, dataiku.com/pr...\n",
       "1302    (dataiku.com/products/pricing/, dataiku.com/pr...\n",
       "1255    (dataiku.com/products/sharing/, dataiku.com/pr...\n",
       "1087    (dataiku.com/products/mining/, dataiku.com/pro...\n",
       "1090    (dataiku.com/products/sharing/, dataiku.com/pr...\n",
       "559     (dataiku.com/products/mining/, dataiku.com/pro...\n",
       "554     (dataiku.com/products/sharing/, dataiku.com/pr...\n",
       "1298    (dataiku.com/products/pricing/, dataiku.com/pr...\n",
       "1259    (dataiku.com/products/shaker/, dataiku.com/pro...\n",
       "1279    (dataiku.com/products/shaker/, dataiku.com/pro...\n",
       "1284    (dataiku.com/products/pricing/, dataiku.com/pr...\n",
       "1278    (dataiku.com/products/pricing/, dataiku.com/pr...\n",
       "1272    (dataiku.com/products/sharing/, dataiku.com/pr...\n",
       "1281    (dataiku.com/products/mining/, dataiku.com/pro...\n",
       "1276    (dataiku.com/products/pricing/, dataiku.com/pr...\n",
       "                              ...                        \n",
       "156             (dataiku.com/, dataiku.com/applications/)\n",
       "8                                     (dataiku.com/blog/)\n",
       "9                                 (dataiku.com/products/)\n",
       "226     (dataiku.com/products/trynow/, dataiku.com/pro...\n",
       "90                                         (dataiku.com/)\n",
       "91                                (dataiku.com/products/)\n",
       "189                 (dataiku.com/, dataiku.com/products/)\n",
       "54                         (dataiku.com/products/mining/)\n",
       "55                                (dataiku.com/products/)\n",
       "247             (dataiku.com/, dataiku.com/company/team/)\n",
       "5                                 (dataiku.com/products/)\n",
       "4                          (dataiku.com/products/manage/)\n",
       "96           (dataiku.com/products/trynow/, dataiku.com/)\n",
       "186     (dataiku.com/products/trynow/, dataiku.com/pro...\n",
       "12                        (dataiku.com/products/pricing/)\n",
       "13                         (dataiku.com/company/careers/)\n",
       "275     (dataiku.com/products/pricing/, dataiku.com/pr...\n",
       "322          (dataiku.com/products/trynow/, dataiku.com/)\n",
       "244     (dataiku.com/products/trynow/, dataiku.com/pro...\n",
       "35                                (dataiku.com/products/)\n",
       "34                         (dataiku.com/products/shaker/)\n",
       "240     (dataiku.com/products/trynow/, dataiku.com/pro...\n",
       "157     (dataiku.com/products/trynow/, dataiku.com/pro...\n",
       "78                        (dataiku.com/products/pricing/)\n",
       "79                                (dataiku.com/products/)\n",
       "10                         (dataiku.com/products/trynow/)\n",
       "11                                         (dataiku.com/)\n",
       "26                        (dataiku.com/products/pricing/)\n",
       "27                                         (dataiku.com/)\n",
       "95      (dataiku.com/products/trynow/, dataiku.com/pro...\n",
       "Name: 1, dtype: object"
      ]
     },
     "execution_count": 74,
     "metadata": {},
     "output_type": "execute_result"
    }
   ],
   "source": [
    "ruledf_pricingortry[1]"
   ]
  },
  {
   "cell_type": "code",
   "execution_count": null,
   "metadata": {
    "collapsed": true
   },
   "outputs": [],
   "source": []
  }
 ],
 "metadata": {
  "kernelspec": {
   "display_name": "Python 2",
   "language": "python",
   "name": "python2"
  },
  "language_info": {
   "codemirror_mode": {
    "name": "ipython",
    "version": 2
   },
   "file_extension": ".py",
   "mimetype": "text/x-python",
   "name": "python",
   "nbconvert_exporter": "python",
   "pygments_lexer": "ipython2",
   "version": "2.7.11"
  }
 },
 "nbformat": 4,
 "nbformat_minor": 0
}
